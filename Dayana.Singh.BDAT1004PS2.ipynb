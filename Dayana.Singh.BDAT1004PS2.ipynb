{
 "cells": [
  {
   "cell_type": "markdown",
   "id": "9049967e",
   "metadata": {},
   "source": [
    "# Problem Set 2"
   ]
  },
  {
   "cell_type": "markdown",
   "id": "4d03a396",
   "metadata": {},
   "source": [
    "### Question:1"
   ]
  },
  {
   "cell_type": "code",
   "execution_count": 22,
   "id": "7e8e1628",
   "metadata": {},
   "outputs": [
    {
     "data": {
      "text/plain": [
       "6"
      ]
     },
     "execution_count": 22,
     "metadata": {},
     "output_type": "execute_result"
    }
   ],
   "source": [
    "a = 0\n",
    "def b():\n",
    " global a\n",
    " a = c(a)\n",
    "def c(a):\n",
    " return a + 2\n",
    "     \n",
    "\n",
    "# a is initialised to 0\n",
    "# variable a can be accessed by the function c as it is defined with global keyword.\n",
    "\n",
    "# When the function b is called 1st time, it calls function c(a) which executes a=0+2 so the value of a is 2.\n",
    "b()\n",
    "\n",
    "# When the function b is called 2nd time, value of a is 2 from the 1st execution, Hence, a=2+2 so the new value of a is 4.\n",
    "b()\n",
    "\n",
    "# When the function b is called 3nd time, value of a is 4 from the 1st execution, Hence, a=4+2 so the new value of a is 6.\n",
    "b()\n",
    "\n",
    "# The final value of variable a is 6, as a result 6 is printed.\n",
    "a\n",
    "     \n"
   ]
  },
  {
   "cell_type": "markdown",
   "id": "afc46f15",
   "metadata": {},
   "source": [
    "### Question:2"
   ]
  },
  {
   "cell_type": "code",
   "execution_count": 23,
   "id": "3fc0d402",
   "metadata": {},
   "outputs": [
    {
     "name": "stdout",
     "output_type": "stream",
     "text": [
      "File midterm.py not found\n"
     ]
    }
   ],
   "source": [
    "def file_length(file_name):\n",
    "  try:\n",
    "    file = open(file_name)\n",
    "    contents = file.read()\n",
    "    file.close()\n",
    "    print(len(contents))\n",
    "  except:\n",
    "    print(\"File \"+ file_name + \" not found\")\n",
    "\n",
    "# Added Try Except block to catch the exception and print the output.\n",
    "\n",
    "file_length('midterm.py')\n",
    "     "
   ]
  },
  {
   "cell_type": "markdown",
   "id": "2959a21c",
   "metadata": {},
   "source": [
    "### Question:3"
   ]
  },
  {
   "cell_type": "code",
   "execution_count": 15,
   "id": "c5064847",
   "metadata": {},
   "outputs": [
    {
     "name": "stdout",
     "output_type": "stream",
     "text": [
      "['doll', 'firetruck', 'kitten']\n",
      "I am a Kangaroo located at coordinates (0,0)\n",
      "['doll', 'firetruck', 'kitten']\n",
      "I am a Kangaroo located at coordinates (3,0)\n"
     ]
    }
   ],
   "source": [
    "class Marsupial:\n",
    "    def __init__(self):\n",
    "        self.pouch = []\n",
    "\n",
    "    def put_in_pouch(self, item):\n",
    "        self.pouch.append(item)\n",
    "\n",
    "    def pouch_contents(self):\n",
    "        return self.pouch\n",
    "\n",
    "\n",
    "class Kangaroo(Marsupial):\n",
    "    def __init__(self, x=0, y=0):\n",
    "        super().__init__()\n",
    "        self.x = x\n",
    "        self.y = y\n",
    "\n",
    "    def jump(self, dx, dy):\n",
    "        self.x += dx\n",
    "        self.y += dy\n",
    "\n",
    "    def __str__(self):\n",
    "        return f\"I am a Kangaroo located at coordinates ({self.x},{self.y})\"\n",
    "\n",
    "\n",
    "# Example usage\n",
    "m = Marsupial()\n",
    "m.put_in_pouch('doll')\n",
    "m.put_in_pouch('firetruck')\n",
    "m.put_in_pouch('kitten')\n",
    "print(m.pouch_contents())  # Output: ['doll', 'firetruck', 'kitten']\n",
    "\n",
    "k = Kangaroo(0, 0)\n",
    "print(k)  # Output: I am a Kangaroo located at coordinates (0,0)\n",
    "k.put_in_pouch('doll')\n",
    "k.put_in_pouch('firetruck')\n",
    "k.put_in_pouch('kitten')\n",
    "print(k.pouch_contents())  # Output: ['doll', 'firetruck', 'kitten']\n",
    "k.jump(1, 0)\n",
    "k.jump(1, 0)\n",
    "k.jump(1, 0)\n",
    "print(k)  # Output: I am a Kangaroo located at coordinates (3,0)\n"
   ]
  },
  {
   "cell_type": "markdown",
   "id": "9d7ea3b8",
   "metadata": {},
   "source": [
    "### Question:4"
   ]
  },
  {
   "cell_type": "code",
   "execution_count": 25,
   "id": "6129e684",
   "metadata": {},
   "outputs": [
    {
     "name": "stdout",
     "output_type": "stream",
     "text": [
      "Please enter the positive number\n",
      "2\n",
      "1\n",
      "11\n",
      "34\n",
      "17\n",
      "52\n",
      "26\n",
      "13\n",
      "40\n",
      "20\n",
      "10\n",
      "5\n",
      "16\n",
      "8\n",
      "4\n",
      "2\n",
      "1\n"
     ]
    }
   ],
   "source": [
    "def collatz(x):\n",
    "  if x<0:\n",
    "    print(\"Please enter the positive number\")\n",
    "  else:\n",
    "    print(x)\n",
    "    if x == 1:\n",
    "        return\n",
    "    elif x % 2 == 0:\n",
    "        collatz(x // 2) ## Used \"//\"\" instead of \"/\"\" as \"//\" is used for floor division and \"/\" gives the value in decimals.\n",
    "    else:\n",
    "        collatz(3 * x + 1)\n",
    "\n",
    "\n",
    "collatz(-7)\n",
    "collatz(2)\n",
    "collatz(11)"
   ]
  },
  {
   "cell_type": "markdown",
   "id": "6653560f",
   "metadata": {},
   "source": [
    "### Question: 5"
   ]
  },
  {
   "cell_type": "code",
   "execution_count": 27,
   "id": "7cd636b6",
   "metadata": {},
   "outputs": [],
   "source": [
    "def binary(x):\n",
    "  if x<0:\n",
    "    print(\"Please enter the positive number\")\n",
    "  else:\n",
    "    if x>1:\n",
    "      binary(x // 2)\n",
    "    print(x % 2, end=\"\")"
   ]
  },
  {
   "cell_type": "code",
   "execution_count": 28,
   "id": "8d2ec09d",
   "metadata": {},
   "outputs": [
    {
     "name": "stdout",
     "output_type": "stream",
     "text": [
      "Please enter the positive number\n",
      "1"
     ]
    }
   ],
   "source": [
    "binary(-4)\n",
    "binary(1)"
   ]
  },
  {
   "cell_type": "code",
   "execution_count": 29,
   "id": "8b8d800a",
   "metadata": {},
   "outputs": [
    {
     "name": "stdout",
     "output_type": "stream",
     "text": [
      "1001"
     ]
    }
   ],
   "source": [
    "binary(9)"
   ]
  },
  {
   "cell_type": "markdown",
   "id": "48b2c441",
   "metadata": {},
   "source": [
    "### Question :6"
   ]
  },
  {
   "cell_type": "code",
   "execution_count": 12,
   "id": "b231dcd5",
   "metadata": {},
   "outputs": [
    {
     "name": "stdout",
     "output_type": "stream",
     "text": [
      "\n",
      "\n",
      "\n",
      "\n",
      "\n",
      "Change_me\n",
      "\n",
      "\n",
      "\n",
      "\n",
      "\n",
      "\n",
      "W3C Mission\n",
      "\n",
      " Principles\n",
      " \n",
      " \n"
     ]
    }
   ],
   "source": [
    "from html.parser import HTMLParser\n",
    "\n",
    "class HeadingParser(HTMLParser):\n",
    "    def __init__(self):\n",
    "        super().__init__()\n",
    "        self.headings = []\n",
    "        self.current_heading = ''\n",
    "        self.indentation = 0\n",
    "\n",
    "    def handle_starttag(self, tag, attrs):\n",
    "        if tag.startswith('h'):\n",
    "            try:\n",
    "                self.indentation = int(tag[1:]) - 1\n",
    "            except ValueError:\n",
    "                # Ignore if the tag does not have a numeric value\n",
    "                pass\n",
    "\n",
    "    def handle_data(self, data):\n",
    "        if self.indentation >= 0:\n",
    "            self.current_heading = ' ' * self.indentation + data.strip()\n",
    "            self.headings.append(self.current_heading)\n",
    "\n",
    "    def print_headings(self):\n",
    "        for heading in self.headings:\n",
    "            print(heading)\n",
    "\n",
    "# Example usage\n",
    "with open('w3c.html') as infile:\n",
    "    content = infile.read()\n",
    "\n",
    "hp = HeadingParser()\n",
    "hp.feed(content)\n",
    "hp.print_headings()\n"
   ]
  },
  {
   "cell_type": "markdown",
   "id": "93359d0a",
   "metadata": {},
   "source": [
    "### Question:7"
   ]
  },
  {
   "cell_type": "code",
   "execution_count": 30,
   "id": "ee601c67",
   "metadata": {},
   "outputs": [
    {
     "name": "stdout",
     "output_type": "stream",
     "text": [
      "http://reed.cs.depaul.edu/lperkovic/csc242/lecture1/\n",
      " http://reed.cs.depaul.edu/lperkovic/csc242/lecture1/Ch7.pptx\n",
      " http://reed.cs.depaul.edu/lperkovic/csc242/lecture1/caseStudy6/blackjack.py\n",
      " http://reed.cs.depaul.edu/lperkovic/csc242/lecture1/emoticon.py\n",
      " http://reed.cs.depaul.edu/lperkovic/csc242/lecture1/chapter7.zip\n"
     ]
    }
   ],
   "source": [
    "import requests\n",
    "from bs4 import BeautifulSoup\n",
    "\n",
    "def webdir(url, depth, indent=0):\n",
    "    if depth <0: #If depth is 0, terminate the recursion as there is no depth.\n",
    "        return\n",
    "\n",
    "    response = requests.get(url)\n",
    "    soup = BeautifulSoup(response.text, 'html.parser')\n",
    "\n",
    "    print(' ' * indent + url)\n",
    "    if depth == 0:\n",
    "        return\n",
    "    links = soup.find_all('a')\n",
    "    for link in links:\n",
    "        href = link.get('href')\n",
    "        if href and not href.startswith('http'):\n",
    "            href = url + href.strip('/')\n",
    "        webdir(href, depth - 1, indent + 1)\n",
    "\n",
    "webdir('http://reed.cs.depaul.edu/lperkovic/csc242/lecture1/', 2, 0)"
   ]
  },
  {
   "cell_type": "markdown",
   "id": "7a0d6c88",
   "metadata": {},
   "source": [
    "### Question:8"
   ]
  },
  {
   "cell_type": "code",
   "execution_count": 31,
   "id": "909fbd7a",
   "metadata": {},
   "outputs": [],
   "source": [
    "import sqlite3\n",
    "\n",
    "# Connect to the database\n",
    "conn = sqlite3.connect('temp_db.db')\n",
    "cursor = conn.cursor()\n",
    "\n",
    "# Create the temperature_data table\n",
    "cursor.execute('''CREATE TABLE temperature_data (\n",
    "                    City TEXT,\n",
    "                    Country TEXT,\n",
    "                    Season TEXT,\n",
    "                    Temperature FLOAT,\n",
    "                    Rainfall FLOAT\n",
    "                )''')\n",
    "\n",
    "# Commit the changes and close the connection\n",
    "conn.commit()\n",
    "conn.close()\n",
    "     "
   ]
  },
  {
   "cell_type": "code",
   "execution_count": 32,
   "id": "653bfdb0",
   "metadata": {},
   "outputs": [],
   "source": [
    "import sqlite3\n",
    "\n",
    "# Connect to the database\n",
    "conn = sqlite3.connect('temp_db.db')\n",
    "cursor = conn.cursor()\n",
    "\n",
    "# Insert data into the temperature_data table\n",
    "temperature_data = [\n",
    "   (\"Mumbai\",\"India\",\"Winter\",24.8,5.9),\n",
    "   (\"Mumbai\",\"India\",\"Spring\",28.4,16.2),\n",
    "   (\"Mumbai\",\"India\",\"Summer\",27.9,1549.4),\n",
    "   (\"Mumbai\",\"India\",\"Fall\",27.6,346),\n",
    "   (\"London\",\"United Kingdom\",\"Winter\",4.2,207.7),\n",
    "   (\"London\",\"United Kingdom\",\"Spring\",8.3,169.6),\n",
    "   (\"London\",\"United Kingdom\",\"Summer\",15.7,157),\n",
    "   (\"London\",\"United Kingdom\",\"Fall\",10.4,218.5),\n",
    "   (\"Cairo\",\"Egypt\",\"Winter\",13.6,16.5),\n",
    "   (\"Cairo\",\"Egypt\",\"Spring\",20.7,6.5),\n",
    "   (\"Cairo\",\"Egypt\",\"Summer\",27.7,0.1),\n",
    "   (\"Cairo\",\"Egypt\",\"Fall\",22.2,4.5)\n",
    "]\n",
    "\n",
    "cursor.executemany('INSERT INTO temperature_data VALUES (?, ?,?,?,?)', temperature_data)\n",
    "\n",
    "# Commit the changes and close the connection\n",
    "conn.commit()\n",
    "conn.close()"
   ]
  },
  {
   "cell_type": "code",
   "execution_count": 2,
   "id": "996e3752",
   "metadata": {},
   "outputs": [
    {
     "name": "stdout",
     "output_type": "stream",
     "text": [
      "All the temperature data\n",
      " \n",
      "('Mumbai', 'India', 'Winter', 24.8, 5.9)\n",
      "('Mumbai', 'India', 'Spring', 28.4, 16.2)\n",
      "('Mumbai', 'India', 'Summer', 27.9, 1549.4)\n",
      "('Mumbai', 'India', 'Fall', 27.6, 346.0)\n",
      "('London', 'United Kingdom', 'Winter', 4.2, 207.7)\n",
      "('London', 'United Kingdom', 'Spring', 8.3, 169.6)\n",
      "('London', 'United Kingdom', 'Summer', 15.7, 157.0)\n",
      "('London', 'United Kingdom', 'Fall', 10.4, 218.5)\n",
      "('Cairo', 'Egypt', 'Winter', 13.6, 16.5)\n",
      "('Cairo', 'Egypt', 'Spring', 20.7, 6.5)\n",
      "('Cairo', 'Egypt', 'Summer', 27.7, 0.1)\n",
      "('Cairo', 'Egypt', 'Fall', 22.2, 4.5)\n"
     ]
    }
   ],
   "source": [
    "import sqlite3\n",
    "\n",
    "# Connect to the database\n",
    "conn = sqlite3.connect('temp_db.db')\n",
    "cursor = conn.cursor()\n",
    "\n",
    "# Execute the query\n",
    "cursor.execute(\"SELECT * FROM temperature_data\")\n",
    "\n",
    "# Fetch all the rows\n",
    "temperature_data = cursor.fetchall()\n",
    "\n",
    "# Print the temperature data\n",
    "print(\"All the temperature data\")\n",
    "print(\" \")\n",
    "for row in temperature_data:\n",
    "    print(row)\n",
    "\n",
    "# Close the connection\n",
    "#conn.close()\n"
   ]
  },
  {
   "cell_type": "code",
   "execution_count": 3,
   "id": "b7117ab8",
   "metadata": {},
   "outputs": [
    {
     "name": "stdout",
     "output_type": "stream",
     "text": [
      "All Cities\n",
      " \n",
      "Mumbai\n",
      "London\n",
      "Cairo\n"
     ]
    }
   ],
   "source": [
    "cursor.execute(\"SELECT distinct city FROM temperature_data\")\n",
    "\n",
    "# Print the cities without repeatition\n",
    "print(\"All Cities\")\n",
    "print(\" \")\n",
    "cities  = cursor.fetchall()\n",
    "\n",
    "for cities in cities:\n",
    "    print(cities[0])\n",
    "     "
   ]
  },
  {
   "cell_type": "code",
   "execution_count": 35,
   "id": "3ff6a0ce",
   "metadata": {},
   "outputs": [
    {
     "name": "stdout",
     "output_type": "stream",
     "text": [
      "All Data where country is India\n",
      " \n",
      "('Mumbai', 'India', 'Winter', 24.8, 5.9)\n",
      "('Mumbai', 'India', 'Spring', 28.4, 16.2)\n",
      "('Mumbai', 'India', 'Summer', 27.9, 1549.4)\n",
      "('Mumbai', 'India', 'Fall', 27.6, 346.0)\n"
     ]
    }
   ],
   "source": [
    "import sqlite3\n",
    "\n",
    "# Connect to the database\n",
    "conn = sqlite3.connect('temp_db.db')\n",
    "cursor = conn.cursor()\n",
    "\n",
    "# Execute the query\n",
    "cursor.execute(\"SELECT * FROM temperature_data WHERE country = 'India'\")\n",
    "\n",
    "# Fetch all the records for India\n",
    "india_records = cursor.fetchall()\n",
    "\n",
    "print(\"All Data where country is India\")\n",
    "print(\" \")\n",
    "\n",
    "\n",
    "# Print the records\n",
    "for record in india_records:\n",
    "    print(record)\n",
    "\n",
    "# Close the connection\n",
    "conn.close()"
   ]
  },
  {
   "cell_type": "code",
   "execution_count": 36,
   "id": "6b176ebf",
   "metadata": {},
   "outputs": [
    {
     "name": "stdout",
     "output_type": "stream",
     "text": [
      "All Data where season is Fall\n",
      " \n",
      "('Mumbai', 'India', 'Fall', 27.6, 346.0)\n",
      "('London', 'United Kingdom', 'Fall', 10.4, 218.5)\n",
      "('Cairo', 'Egypt', 'Fall', 22.2, 4.5)\n"
     ]
    }
   ],
   "source": [
    "import sqlite3\n",
    "\n",
    "# Connect to the database\n",
    "conn = sqlite3.connect('temp_db.db')\n",
    "cursor = conn.cursor()\n",
    "\n",
    "# Execute the query\n",
    "cursor.execute(\"SELECT * FROM temperature_data WHERE season = 'Fall'\")\n",
    "\n",
    "# Fetch all the Fall records\n",
    "fall_records = cursor.fetchall()\n",
    "\n",
    "# Print the records\n",
    "print(\"All Data where season is Fall\")\n",
    "print(\" \")\n",
    "\n",
    "for record in fall_records:\n",
    "    print(record)\n",
    "\n",
    "# Close the connection\n",
    "conn.close()\n",
    "     "
   ]
  },
  {
   "cell_type": "code",
   "execution_count": 37,
   "id": "50568d2c",
   "metadata": {},
   "outputs": [
    {
     "name": "stdout",
     "output_type": "stream",
     "text": [
      "Average\n",
      " \n",
      "('London', 'United Kingdom', 'Fall')\n",
      "('London', 'United Kingdom', 'Winter')\n",
      "('Mumbai', 'India', 'Fall')\n"
     ]
    }
   ],
   "source": [
    "import sqlite3\n",
    "\n",
    "# Connect to the database\n",
    "conn = sqlite3.connect('temp_db.db')\n",
    "cursor = conn.cursor()\n",
    "\n",
    "# Execute the query\n",
    "cursor.execute(\"SELECT city, country, season FROM temperature_data GROUP BY city, country, season HAVING AVG(rainfall) BETWEEN 200 AND 400\")\n",
    "\n",
    "# Fetch all the records\n",
    "average_rainfall_records = cursor.fetchall()\n",
    "\n",
    "# Print the records\n",
    "\n",
    "print(\"Average\")\n",
    "print(\" \")\n",
    "\n",
    "for record in average_rainfall_records:\n",
    "    print(record)\n",
    "\n",
    "# Close the connection\n",
    "conn.close()\n",
    "     "
   ]
  },
  {
   "cell_type": "code",
   "execution_count": 38,
   "id": "c5387b71",
   "metadata": {},
   "outputs": [
    {
     "name": "stdout",
     "output_type": "stream",
     "text": [
      "Average temp greater 20\n",
      " \n",
      "('Cairo', 'Egypt')\n",
      "('Mumbai', 'India')\n"
     ]
    }
   ],
   "source": [
    "import sqlite3\n",
    "\n",
    "# Connect to the database\n",
    "conn = sqlite3.connect('temp_db.db')\n",
    "cursor = conn.cursor()\n",
    "\n",
    "# Execute the query\n",
    "cursor.execute(\"SELECT city, country FROM temperature_data WHERE season = 'Fall' GROUP BY city, country HAVING AVG(temperature) > 20 ORDER BY AVG(temperature)\")\n",
    "\n",
    "# Fetch all the records\n",
    "temperature_records = cursor.fetchall()\n",
    "\n",
    "# Print the records\n",
    "\n",
    "print(\"Average temp greater 20\")\n",
    "print(\" \")\n",
    "\n",
    "for record in temperature_records:\n",
    "    print(record)\n",
    "\n",
    "# Close the connection\n",
    "conn.close()\n"
   ]
  },
  {
   "cell_type": "code",
   "execution_count": 39,
   "id": "75a50c74",
   "metadata": {},
   "outputs": [
    {
     "name": "stdout",
     "output_type": "stream",
     "text": [
      "27.6\n"
     ]
    }
   ],
   "source": [
    "import sqlite3\n",
    "\n",
    "# Connect to the database\n",
    "conn = sqlite3.connect('temp_db.db')\n",
    "cursor = conn.cursor()\n",
    "\n",
    "# Execute the query\n",
    "cursor.execute(\"SELECT SUM(rainfall) FROM temperature_data WHERE city = 'Cairo'\")\n",
    "\n",
    "# Fetch the total annual rainfall\n",
    "total_rainfall = cursor.fetchone()[0]\n",
    "\n",
    "# Print the total annual rainfall\n",
    "print(total_rainfall)\n",
    "\n",
    "# Close the connection\n",
    "conn.close()\n",
    "     "
   ]
  },
  {
   "cell_type": "code",
   "execution_count": 40,
   "id": "bdd85de0",
   "metadata": {},
   "outputs": [
    {
     "name": "stdout",
     "output_type": "stream",
     "text": [
      "('Fall', 569.0)\n",
      "('Spring', 192.29999999999998)\n",
      "('Summer', 1706.5)\n",
      "('Winter', 230.1)\n"
     ]
    }
   ],
   "source": [
    "import sqlite3\n",
    "\n",
    "# Connect to the database\n",
    "conn = sqlite3.connect('temp_db.db')\n",
    "cursor = conn.cursor()\n",
    "\n",
    "# Execute the query\n",
    "cursor.execute(\"SELECT season, SUM(rainfall) FROM temperature_data GROUP BY season\")\n",
    "\n",
    "# Fetch all the records\n",
    "season_rainfall_records = cursor.fetchall()\n",
    "\n",
    "# Print the records\n",
    "for record in season_rainfall_records:\n",
    "    print(record)\n",
    "\n",
    "# Close the connection\n",
    "conn.close()"
   ]
  },
  {
   "cell_type": "markdown",
   "id": "485dc017",
   "metadata": {},
   "source": [
    "### Question:9"
   ]
  },
  {
   "cell_type": "code",
   "execution_count": 16,
   "id": "c41aeb55",
   "metadata": {},
   "outputs": [],
   "source": [
    "words = ['The', 'quick', 'brown', 'fox', 'jumps', 'over', 'the', 'lazy', 'dog']"
   ]
  },
  {
   "cell_type": "code",
   "execution_count": 17,
   "id": "5008a675",
   "metadata": {},
   "outputs": [
    {
     "data": {
      "text/plain": [
       "['THE', 'QUICK', 'BROWN', 'FOX', 'JUMPS', 'OVER', 'THE', 'LAZY', 'DOG']"
      ]
     },
     "execution_count": 17,
     "metadata": {},
     "output_type": "execute_result"
    }
   ],
   "source": [
    "uppercase_words = [word.upper() for word in words]\n",
    "uppercase_words"
   ]
  },
  {
   "cell_type": "code",
   "execution_count": 18,
   "id": "bcee8ec7",
   "metadata": {},
   "outputs": [
    {
     "data": {
      "text/plain": [
       "['the', 'quick', 'brown', 'fox', 'jumps', 'over', 'the', 'lazy', 'dog']"
      ]
     },
     "execution_count": 18,
     "metadata": {},
     "output_type": "execute_result"
    }
   ],
   "source": [
    "lowercase_words = [word.lower() for word in words]\n",
    "lowercase_words"
   ]
  },
  {
   "cell_type": "code",
   "execution_count": 19,
   "id": "f3c6a715",
   "metadata": {},
   "outputs": [
    {
     "data": {
      "text/plain": [
       "[3, 5, 5, 3, 5, 4, 3, 4, 3]"
      ]
     },
     "execution_count": 19,
     "metadata": {},
     "output_type": "execute_result"
    }
   ],
   "source": [
    "word_lengths = [len(word) for word in words]\n",
    "word_lengths"
   ]
  },
  {
   "cell_type": "code",
   "execution_count": 20,
   "id": "006709af",
   "metadata": {},
   "outputs": [
    {
     "data": {
      "text/plain": [
       "[['THE', 'the', 3],\n",
       " ['QUICK', 'quick', 5],\n",
       " ['BROWN', 'brown', 5],\n",
       " ['FOX', 'fox', 3],\n",
       " ['JUMPS', 'jumps', 5],\n",
       " ['OVER', 'over', 4],\n",
       " ['THE', 'the', 3],\n",
       " ['LAZY', 'lazy', 4],\n",
       " ['DOG', 'dog', 3]]"
      ]
     },
     "execution_count": 20,
     "metadata": {},
     "output_type": "execute_result"
    }
   ],
   "source": [
    "word_info = [[word.upper(), word.lower(), len(word)] for word in words]\n",
    "word_info"
   ]
  },
  {
   "cell_type": "code",
   "execution_count": 21,
   "id": "892a3ad5",
   "metadata": {},
   "outputs": [
    {
     "data": {
      "text/plain": [
       "['quick', 'brown', 'jumps', 'over', 'lazy']"
      ]
     },
     "execution_count": 21,
     "metadata": {},
     "output_type": "execute_result"
    }
   ],
   "source": [
    "long_words = [word for word in words if len(word) >= 4]\n",
    "long_words"
   ]
  },
  {
   "cell_type": "code",
   "execution_count": null,
   "id": "92284c2b",
   "metadata": {},
   "outputs": [],
   "source": []
  }
 ],
 "metadata": {
  "kernelspec": {
   "display_name": "Python 3 (ipykernel)",
   "language": "python",
   "name": "python3"
  },
  "language_info": {
   "codemirror_mode": {
    "name": "ipython",
    "version": 3
   },
   "file_extension": ".py",
   "mimetype": "text/x-python",
   "name": "python",
   "nbconvert_exporter": "python",
   "pygments_lexer": "ipython3",
   "version": "3.9.13"
  }
 },
 "nbformat": 4,
 "nbformat_minor": 5
}
